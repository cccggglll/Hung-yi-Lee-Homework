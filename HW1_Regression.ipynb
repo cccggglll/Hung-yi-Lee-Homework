{
 "cells": [
  {
   "cell_type": "markdown",
   "metadata": {
    "colab_type": "text",
    "id": "0_9ahF-QZBJR"
   },
   "source": [
    "从Google Driver中下载并导入数据"
   ]
  },
  {
   "cell_type": "code",
   "execution_count": 17,
   "metadata": {
    "colab": {
     "base_uri": "https://localhost:8080/",
     "height": 182
    },
    "colab_type": "code",
    "executionInfo": {
     "elapsed": 12539,
     "status": "ok",
     "timestamp": 1589526665751,
     "user": {
      "displayName": "蔡光磊",
      "photoUrl": "",
      "userId": "17728826530425753010"
     },
     "user_tz": -480
    },
    "id": "WIpudHb1ZUDY",
    "outputId": "ddec8ba4-3f57-405d-e263-09b64edf9bf7"
   },
   "outputs": [
    {
     "name": "stdout",
     "output_type": "stream",
     "text": [
      "Downloading...\n",
      "From: https://drive.google.com/uc?id=1wNKAxQ29G15kgpBy_asjTcZRRgmsCZRm\n",
      "To: /content/data.zip\n",
      "\r",
      "  0% 0.00/177k [00:00<?, ?B/s]\r",
      "100% 177k/177k [00:00<00:00, 86.1MB/s]\n",
      "Archive:  data.zip\n",
      "replace test.csv? [y]es, [n]o, [A]ll, [N]one, [r]ename: y\n",
      "  inflating: test.csv                \n",
      "replace train.csv? [y]es, [n]o, [A]ll, [N]one, [r]ename: y\n",
      "  inflating: train.csv               \n"
     ]
    }
   ],
   "source": [
    "import sys\n",
    "import pandas as pd\n",
    "import numpy as np\n",
    "from google.colab import drive \n",
    "!gdown --id '1wNKAxQ29G15kgpBy_asjTcZRRgmsCZRm' --output data.zip\n",
    "!unzip data.zip\n",
    "# data = pd.read_csv('gdrive/My Drive/hw1-regression/train.csv', header = None, encoding = 'big5')\n",
    "data = pd.read_csv('./train.csv', encoding = 'big5')"
   ]
  },
  {
   "cell_type": "code",
   "execution_count": 18,
   "metadata": {
    "colab": {
     "base_uri": "https://localhost:8080/",
     "height": 274
    },
    "colab_type": "code",
    "executionInfo": {
     "elapsed": 1067,
     "status": "ok",
     "timestamp": 1589526668407,
     "user": {
      "displayName": "蔡光磊",
      "photoUrl": "",
      "userId": "17728826530425753010"
     },
     "user_tz": -480
    },
    "id": "wKbffUEHaZmf",
    "outputId": "74b986a6-cd0c-4920-8cc6-7afde67e7799"
   },
   "outputs": [
    {
     "name": "stdout",
     "output_type": "stream",
     "text": [
      "              日期  測站          測項     0     1  ...    19    20    21    22    23\n",
      "0       2014/1/1  豐原    AMB_TEMP    14    14  ...    16    15    15    15    15\n",
      "1       2014/1/1  豐原         CH4   1.8   1.8  ...   1.8   1.8   1.8   1.8   1.8\n",
      "2       2014/1/1  豐原          CO  0.51  0.41  ...  0.45  0.38  0.35  0.36  0.32\n",
      "3       2014/1/1  豐原        NMHC   0.2  0.15  ...  0.12   0.1  0.09   0.1  0.08\n",
      "4       2014/1/1  豐原          NO   0.9   0.6  ...   1.9   1.5   1.6   1.8   1.5\n",
      "...          ...  ..         ...   ...   ...  ...   ...   ...   ...   ...   ...\n",
      "4315  2014/12/20  豐原         THC   1.8   1.8  ...   1.9   1.9   1.9     2     2\n",
      "4316  2014/12/20  豐原       WD_HR    46    13  ...   109   108   114   108   109\n",
      "4317  2014/12/20  豐原  WIND_DIREC    36    55  ...    97   107   118   100   105\n",
      "4318  2014/12/20  豐原  WIND_SPEED   1.9   2.4  ...     1   1.7   1.5     2     2\n",
      "4319  2014/12/20  豐原       WS_HR   0.7   0.8  ...   1.4   1.3   1.6   1.8     2\n",
      "\n",
      "[4320 rows x 27 columns]\n"
     ]
    }
   ],
   "source": [
    "print(data)"
   ]
  },
  {
   "cell_type": "markdown",
   "metadata": {
    "colab_type": "text",
    "id": "BVYpPTWEa8B9"
   },
   "source": [
    "提取出数据部分"
   ]
  },
  {
   "cell_type": "code",
   "execution_count": 19,
   "metadata": {
    "colab": {
     "base_uri": "https://localhost:8080/",
     "height": 146
    },
    "colab_type": "code",
    "executionInfo": {
     "elapsed": 1031,
     "status": "ok",
     "timestamp": 1589526671517,
     "user": {
      "displayName": "蔡光磊",
      "photoUrl": "",
      "userId": "17728826530425753010"
     },
     "user_tz": -480
    },
    "id": "PdNVCnVca5y_",
    "outputId": "03e4eeed-1273-4f03-acfb-7f0ac91c2088"
   },
   "outputs": [
    {
     "name": "stdout",
     "output_type": "stream",
     "text": [
      "[['14' '14' '14' ... '15' '15' '15']\n",
      " ['1.8' '1.8' '1.8' ... '1.8' '1.8' '1.8']\n",
      " ['0.51' '0.41' '0.39' ... '0.35' '0.36' '0.32']\n",
      " ...\n",
      " ['36' '55' '72' ... '118' '100' '105']\n",
      " ['1.9' '2.4' '1.9' ... '1.5' '2' '2']\n",
      " ['0.7' '0.8' '1.8' ... '1.6' '1.8' '2']]\n"
     ]
    }
   ],
   "source": [
    "data = data.iloc[:, 3:]\n",
    "data[data == 'NR'] = 0\n",
    "raw_data = data.to_numpy()\n",
    "print(raw_data)"
   ]
  },
  {
   "cell_type": "markdown",
   "metadata": {
    "colab_type": "text",
    "id": "yUVLhm7ihrnM"
   },
   "source": [
    "按月份将数据分块，每18行为一天，一共4320/18=240天</br>\n",
    "数据中每月记录有20天</br>\n",
    "每一天中的数据格式为 18个特征 * 24小时</br>\n",
    "先将每月每一天的18 * 24大小的数据单独提取出存入sample数组中</br>\n",
    "sample数组的大小是18 * 480，其中480是每天的24小时 * 每月的20天计算出"
   ]
  },
  {
   "cell_type": "code",
   "execution_count": 0,
   "metadata": {
    "colab": {},
    "colab_type": "code",
    "id": "5VcBfFEYiAwj"
   },
   "outputs": [],
   "source": [
    "month_data = {}\n",
    "for month in range(12):\n",
    "  sample = np.empty([18, 480])\n",
    "  for day in range(20):\n",
    "    sample[:, day * 24 : (day + 1) * 24] = raw_data[18 * (20 * month + day) : 18 * (20 * month + day + 1), :]\n",
    "  month_data[month] = sample"
   ]
  },
  {
   "cell_type": "markdown",
   "metadata": {
    "colab_type": "text",
    "id": "nmBmN342tYPQ"
   },
   "source": [
    "题目要求使用每天前9小时的数据进行训练</br>\n",
    "每个月一共有480小时，每9小时组成一项数据，每月有471项数据</br>\n",
    "所以数据总数为471 * 12个月份</br>\n",
    "每项数据中内容是9个小时 * 18个特征</br>\n",
    "对应的标签为每第10个小时的PM2.5的值，一共有471 * 12个"
   ]
  },
  {
   "cell_type": "code",
   "execution_count": 21,
   "metadata": {
    "colab": {
     "base_uri": "https://localhost:8080/",
     "height": 274
    },
    "colab_type": "code",
    "executionInfo": {
     "elapsed": 984,
     "status": "ok",
     "timestamp": 1589526684309,
     "user": {
      "displayName": "蔡光磊",
      "photoUrl": "",
      "userId": "17728826530425753010"
     },
     "user_tz": -480
    },
    "id": "tlV0h9vXs01f",
    "outputId": "623c1adc-dfce-4faa-d9f6-e8be270f3969"
   },
   "outputs": [
    {
     "name": "stdout",
     "output_type": "stream",
     "text": [
      "[[14.  14.  14.  ...  2.   2.   0.5]\n",
      " [14.  14.  13.  ...  2.   0.5  0.3]\n",
      " [14.  13.  12.  ...  0.5  0.3  0.8]\n",
      " ...\n",
      " [17.  18.  19.  ...  1.1  1.4  1.3]\n",
      " [18.  19.  18.  ...  1.4  1.3  1.6]\n",
      " [19.  18.  17.  ...  1.3  1.6  1.8]]\n",
      "[[30.]\n",
      " [41.]\n",
      " [44.]\n",
      " ...\n",
      " [17.]\n",
      " [24.]\n",
      " [29.]]\n"
     ]
    }
   ],
   "source": [
    "x = np.empty([12 * 471, 18 * 9], dtype = float)#训练数据\n",
    "y = np.empty([12 * 471, 1], dtype = float)#标签数据\n",
    "for month in range(12):\n",
    "  for day in range(20):\n",
    "    for hour in range(24):\n",
    "      if day == 19 and hour > 14:\n",
    "        continue\n",
    "      x[month * 471 + day * 24 + hour, :] = month_data[month][:,day * 24 + hour : day * 24 + hour + 9].reshape(1, -1)\n",
    "      y[month * 471 + day * 24 + hour, 0] = month_data[month][9, day * 24 + hour + 9]\n",
    "print(x)\n",
    "print(y)"
   ]
  },
  {
   "cell_type": "markdown",
   "metadata": {
    "colab_type": "text",
    "id": "NPjjAem54cyb"
   },
   "source": [
    "训练数据归一化"
   ]
  },
  {
   "cell_type": "code",
   "execution_count": 22,
   "metadata": {
    "colab": {
     "base_uri": "https://localhost:8080/",
     "height": 256
    },
    "colab_type": "code",
    "executionInfo": {
     "elapsed": 2350,
     "status": "ok",
     "timestamp": 1589526691697,
     "user": {
      "displayName": "蔡光磊",
      "photoUrl": "",
      "userId": "17728826530425753010"
     },
     "user_tz": -480
    },
    "id": "x5YVgrza4fh9",
    "outputId": "562e9d25-ea69-4bf3-f1a1-58e722e74676"
   },
   "outputs": [
    {
     "name": "stdout",
     "output_type": "stream",
     "text": [
      "[[-1.35825331 -1.35883937 -1.359222   ...  0.26650729  0.2656797\n",
      "  -1.14082131]\n",
      " [-1.35825331 -1.35883937 -1.51819928 ...  0.26650729 -1.13963133\n",
      "  -1.32832904]\n",
      " [-1.35825331 -1.51789368 -1.67717656 ... -1.13923451 -1.32700613\n",
      "  -0.85955971]\n",
      " ...\n",
      " [-0.88092053 -0.72262212 -0.56433559 ... -0.57693779 -0.29644471\n",
      "  -0.39079039]\n",
      " [-0.7218096  -0.56356781 -0.72331287 ... -0.29578943 -0.39013211\n",
      "  -0.1095288 ]\n",
      " [-0.56269867 -0.72262212 -0.88229015 ... -0.38950555 -0.10906991\n",
      "   0.07797893]]\n"
     ]
    }
   ],
   "source": [
    "mean_x = np.mean(x, axis = 0)#平均值\n",
    "std_x = np.std(x, axis = 0)#标准差\n",
    "for i in range(len(x)):\n",
    "  for j in range(len(x[0])):\n",
    "    if std_x[j] != 0:\n",
    "      x[i][j] = (x[i][j] - mean_x[j]) / std_x[j]\n",
    "print(x)"
   ]
  },
  {
   "cell_type": "markdown",
   "metadata": {
    "colab_type": "text",
    "id": "m2YaziF7_YkP"
   },
   "source": [
    "将训练集拆分成训练集和验证集，比例约为4:1"
   ]
  },
  {
   "cell_type": "code",
   "execution_count": 23,
   "metadata": {
    "colab": {
     "base_uri": "https://localhost:8080/",
     "height": 54
    },
    "colab_type": "code",
    "executionInfo": {
     "elapsed": 950,
     "status": "ok",
     "timestamp": 1589526695269,
     "user": {
      "displayName": "蔡光磊",
      "photoUrl": "",
      "userId": "17728826530425753010"
     },
     "user_tz": -480
    },
    "id": "maMk8f7B_xqM",
    "outputId": "3bd9bcfe-f7b0-4a52-9d53-6ed9081c5b7f"
   },
   "outputs": [
    {
     "name": "stdout",
     "output_type": "stream",
     "text": [
      "4521\n",
      "162\n"
     ]
    }
   ],
   "source": [
    "import math\n",
    "x_train_set = x[: math.floor(len(x) * 0.8), :]#向下取整\n",
    "y_train_set = y[: math.floor(len(x) * 0.8), :]\n",
    "x_validation = x[math.floor(len(x) * 0.8): , :]\n",
    "y_validation = y[math.floor(len(x) * 0.8): , :]\n",
    "print(len(x_train_set))\n",
    "print(len(x_train_set[0]))"
   ]
  },
  {
   "cell_type": "markdown",
   "metadata": {
    "colab_type": "text",
    "id": "jmtiDiJVCUYN"
   },
   "source": [
    "训练</br>\n",
    "使用线性模型，将9小时的18个特征都代入到模型中，均为一次，再加上一个偏置项"
   ]
  },
  {
   "cell_type": "code",
   "execution_count": 24,
   "metadata": {
    "colab": {
     "base_uri": "https://localhost:8080/",
     "height": 219
    },
    "colab_type": "code",
    "executionInfo": {
     "elapsed": 1758,
     "status": "ok",
     "timestamp": 1589526701586,
     "user": {
      "displayName": "蔡光磊",
      "photoUrl": "",
      "userId": "17728826530425753010"
     },
     "user_tz": -480
    },
    "id": "C9JZwPDfDiiv",
    "outputId": "319d5683-a979-489a-f37b-4f0a463b1666"
   },
   "outputs": [
    {
     "name": "stdout",
     "output_type": "stream",
     "text": [
      "0:27.239591682144457\n",
      "100:22.723975744599546\n",
      "200:10.427772652266519\n",
      "300:7.635824772204668\n",
      "400:6.849878685598302\n",
      "500:6.518567463859378\n",
      "600:6.32564308053946\n",
      "700:6.1943518687643575\n",
      "800:6.09908116190811\n",
      "900:6.027838242824769\n",
      "999:5.974024879930956\n"
     ]
    }
   ],
   "source": [
    "dim = 18 * 9 + 1  #一项数据的长度为18 * 9，再加上一个常数项\n",
    "w = np.zeros([dim, 1])\n",
    "x = np.concatenate((np.ones([math.floor(12 * 471 * 0.8), 1]), x_train_set), axis = 1).astype(float)\n",
    "learning_rate = 100\n",
    "iter_times = 1000\n",
    "adagrad = np.zeros([dim, 1]) #用于记录累积的梯度平方\n",
    "eps = 0.0000000001  #用于防止梯度为0\n",
    "for t in range(iter_times):\n",
    "  loss = np.sqrt(np.sum(np.power(np.dot(x, w) - y_train_set, 2)) / (math.floor(12 * 471 * 0.8))) #RMSE，loss为平均每项数据计算出的预测值与真实值的差值的平方，再取根号\n",
    "  if (t % 100 == 0 or t == iter_times - 1):\n",
    "    print(str(t) + \":\" + str(loss))\n",
    "  gradient = 2 * np.dot(x.transpose(), np.dot(x, w) - y_train_set)\n",
    "  adagrad += np.power(gradient, 2)\n",
    "  w = w - learning_rate * gradient / np.sqrt(adagrad + eps)"
   ]
  },
  {
   "cell_type": "markdown",
   "metadata": {
    "colab_type": "text",
    "id": "Ve8xFyZTHsJm"
   },
   "source": [
    "最终在训练集上的表现"
   ]
  },
  {
   "cell_type": "code",
   "execution_count": 25,
   "metadata": {
    "colab": {
     "base_uri": "https://localhost:8080/",
     "height": 35
    },
    "colab_type": "code",
    "executionInfo": {
     "elapsed": 1135,
     "status": "ok",
     "timestamp": 1589526705174,
     "user": {
      "displayName": "蔡光磊",
      "photoUrl": "",
      "userId": "17728826530425753010"
     },
     "user_tz": -480
    },
    "id": "cOZjabeVHx07",
    "outputId": "47633e50-58e5-40e8-dcb3-1b29029e1741"
   },
   "outputs": [
    {
     "data": {
      "text/plain": [
       "5.973549167998369"
      ]
     },
     "execution_count": 25,
     "metadata": {
      "tags": []
     },
     "output_type": "execute_result"
    }
   ],
   "source": [
    "x = np.concatenate((np.ones([math.floor(12 * 471 * 0.8), 1]), x_train_set), axis = 1).astype(float)\n",
    "loss = np.sqrt(np.sum(np.power(np.dot(x, w) - y_train_set, 2)) / (math.floor(12 * 471 * 0.8)))\n",
    "loss"
   ]
  },
  {
   "cell_type": "markdown",
   "metadata": {
    "colab_type": "text",
    "id": "LlnbLKZcIS2C"
   },
   "source": [
    "在验证集上的表现"
   ]
  },
  {
   "cell_type": "code",
   "execution_count": 27,
   "metadata": {
    "colab": {
     "base_uri": "https://localhost:8080/",
     "height": 35
    },
    "colab_type": "code",
    "executionInfo": {
     "elapsed": 983,
     "status": "ok",
     "timestamp": 1589526717858,
     "user": {
      "displayName": "蔡光磊",
      "photoUrl": "",
      "userId": "17728826530425753010"
     },
     "user_tz": -480
    },
    "id": "S3UZ_dXQIVwf",
    "outputId": "3d20fed1-e32a-40da-c005-c25f90d90ef1"
   },
   "outputs": [
    {
     "data": {
      "text/plain": [
       "5.91220546628651"
      ]
     },
     "execution_count": 27,
     "metadata": {
      "tags": []
     },
     "output_type": "execute_result"
    }
   ],
   "source": [
    "x = np.concatenate((np.ones([12 * 471 - math.floor(12 * 471 * 0.8), 1]), x_validation), axis = 1).astype(float)\n",
    "loss = np.sqrt(np.sum(np.power(np.dot(x, w) - y_validation, 2)) / (12 * 471 - math.floor(12 * 471 * 0.8)))\n",
    "loss"
   ]
  },
  {
   "cell_type": "markdown",
   "metadata": {
    "colab_type": "text",
    "id": "1ckcczJVMlUJ"
   },
   "source": [
    "尝试如果只使用前9天18个天气特征中的PM2.5特征进行训练</br>\n",
    "数据重新导入"
   ]
  },
  {
   "cell_type": "code",
   "execution_count": 34,
   "metadata": {
    "colab": {
     "base_uri": "https://localhost:8080/",
     "height": 274
    },
    "colab_type": "code",
    "executionInfo": {
     "elapsed": 1000,
     "status": "ok",
     "timestamp": 1589527731341,
     "user": {
      "displayName": "蔡光磊",
      "photoUrl": "",
      "userId": "17728826530425753010"
     },
     "user_tz": -480
    },
    "id": "OwLeFTPrM2Xo",
    "outputId": "36a0d2e3-0f52-4172-fcc0-74aea6a11902"
   },
   "outputs": [
    {
     "name": "stdout",
     "output_type": "stream",
     "text": [
      "[[14.  14.  14.  ...  2.   2.   0.5]\n",
      " [14.  14.  13.  ...  2.   0.5  0.3]\n",
      " [14.  13.  12.  ...  0.5  0.3  0.8]\n",
      " ...\n",
      " [17.  18.  19.  ...  1.1  1.4  1.3]\n",
      " [18.  19.  18.  ...  1.4  1.3  1.6]\n",
      " [19.  18.  17.  ...  1.3  1.6  1.8]]\n",
      "[[30.]\n",
      " [41.]\n",
      " [44.]\n",
      " ...\n",
      " [17.]\n",
      " [24.]\n",
      " [29.]]\n"
     ]
    }
   ],
   "source": [
    "x = np.empty([12 * 471, 18 * 9], dtype = float)#训练数据\n",
    "y = np.empty([12 * 471, 1], dtype = float)#标签数据\n",
    "for month in range(12):\n",
    "  for day in range(20):\n",
    "    for hour in range(24):\n",
    "      if day == 19 and hour > 14:\n",
    "        continue\n",
    "      x[month * 471 + day * 24 + hour, :] = month_data[month][:,day * 24 + hour : day * 24 + hour + 9].reshape(1, -1)\n",
    "      y[month * 471 + day * 24 + hour, 0] = month_data[month][9, day * 24 + hour + 9]\n",
    "print(x)\n",
    "print(y)"
   ]
  },
  {
   "cell_type": "markdown",
   "metadata": {
    "colab_type": "text",
    "id": "cDuc3Va-N4BK"
   },
   "source": [
    "PM2.5数据在每小时数据的第10个"
   ]
  },
  {
   "cell_type": "code",
   "execution_count": 43,
   "metadata": {
    "colab": {
     "base_uri": "https://localhost:8080/",
     "height": 274
    },
    "colab_type": "code",
    "executionInfo": {
     "elapsed": 973,
     "status": "ok",
     "timestamp": 1589528128287,
     "user": {
      "displayName": "蔡光磊",
      "photoUrl": "",
      "userId": "17728826530425753010"
     },
     "user_tz": -480
    },
    "id": "YGejoVnWNtPv",
    "outputId": "5fe1dfcc-cb77-424a-e1d2-49f932518f02"
   },
   "outputs": [
    {
     "name": "stdout",
     "output_type": "stream",
     "text": [
      "[[26. 39. 36. ... 25. 20. 19.]\n",
      " [39. 36. 35. ... 20. 19. 30.]\n",
      " [36. 35. 31. ... 19. 30. 41.]\n",
      " ...\n",
      " [ 4.  1.  1. ... 49. 37. 28.]\n",
      " [ 1.  1.  7. ... 37. 28. 17.]\n",
      " [ 1.  7. 24. ... 28. 17. 24.]]\n",
      "[[30.]\n",
      " [41.]\n",
      " [44.]\n",
      " ...\n",
      " [17.]\n",
      " [24.]\n",
      " [29.]]\n"
     ]
    }
   ],
   "source": [
    "x_pm25 = x[: , 9 * 9 : 9 * 9 + 9]\n",
    "y_pm25 = y\n",
    "print(x_pm25)\n",
    "print(y_pm25)"
   ]
  },
  {
   "cell_type": "markdown",
   "metadata": {
    "colab_type": "text",
    "id": "crg3zFMrJG7b"
   },
   "source": [
    "将训练数据归一化并划分出验证集"
   ]
  },
  {
   "cell_type": "code",
   "execution_count": 49,
   "metadata": {
    "colab": {
     "base_uri": "https://localhost:8080/",
     "height": 274
    },
    "colab_type": "code",
    "executionInfo": {
     "elapsed": 967,
     "status": "ok",
     "timestamp": 1589529455160,
     "user": {
      "displayName": "蔡光磊",
      "photoUrl": "",
      "userId": "17728826530425753010"
     },
     "user_tz": -480
    },
    "id": "3HOCwCdNRYVS",
    "outputId": "5b7c729f-266c-4425-e52e-f22470ae5bb1"
   },
   "outputs": [
    {
     "name": "stdout",
     "output_type": "stream",
     "text": [
      "4521\n",
      "[[ 0.27889755  1.05839335  0.88014061 ...  0.21838973 -0.08226916\n",
      "  -0.14272026]\n",
      " [ 1.05656354  0.87873275  0.82016285 ... -0.08214074 -0.1424225\n",
      "   0.51926154]\n",
      " [ 0.87710216  0.81884589  0.58025185 ... -0.14224684  0.51926421\n",
      "   1.18124334]\n",
      " ...\n",
      " [-1.03715259 -1.21730758 -1.21908069 ...  1.660936    0.94033757\n",
      "   0.39890121]\n",
      " [-1.21661397 -1.21730758 -0.85921419 ...  0.93966286  0.39895754\n",
      "  -0.26308059]\n",
      " [-1.21661397 -0.85798638  0.16040759 ...  0.39870801 -0.26272917\n",
      "   0.15818056]]\n"
     ]
    }
   ],
   "source": [
    "x_pm25_mean = np.mean(x_pm25, axis = 0)\n",
    "x_pm25_std = np.std(x_pm25, axis = 0)\n",
    "for i in range(len(x_pm25)):\n",
    "  for j in range(len(x_pm25[0])):\n",
    "    if x_pm25_std[j] != 0:\n",
    "      x_pm25[i][j] = (x_pm25[i][j] - x_pm25_mean[j]) / x_pm25_std[j]\n",
    "x_pm25_train = x_pm25[: math.floor(len(x_pm25) * 0.8), : ]\n",
    "y_pm25_train = y_pm25[: math.floor(len(x_pm25) * 0.8), : ]\n",
    "x_pm25_valid = x_pm25[math.floor(len(x_pm25) * 0.8) : , : ]\n",
    "y_pm25_valid = y_pm25[math.floor(len(x_pm25) * 0.8) : , : ]\n",
    "print(len(x_pm25_train))\n",
    "print(x_pm25)"
   ]
  },
  {
   "cell_type": "markdown",
   "metadata": {
    "colab_type": "text",
    "id": "uMzls1c7UWJI"
   },
   "source": [
    "训练</br>\n",
    "使用线性模型，将9小时的PM2.5都代入到模型中，均为一次，再加上一个偏置项"
   ]
  },
  {
   "cell_type": "code",
   "execution_count": 51,
   "metadata": {
    "colab": {
     "base_uri": "https://localhost:8080/",
     "height": 219
    },
    "colab_type": "code",
    "executionInfo": {
     "elapsed": 1083,
     "status": "ok",
     "timestamp": 1589530407050,
     "user": {
      "displayName": "蔡光磊",
      "photoUrl": "",
      "userId": "17728826530425753010"
     },
     "user_tz": -480
    },
    "id": "Z-yGFqoOUgJQ",
    "outputId": "303d285f-038c-407d-d3cb-d1e927148554"
   },
   "outputs": [
    {
     "name": "stdout",
     "output_type": "stream",
     "text": [
      "0:27.239591682144457\n",
      "100:6.475116994173631\n",
      "200:6.299428696470295\n",
      "300:6.239356702474483\n",
      "400:6.214218284941439\n",
      "500:6.203148310110213\n",
      "600:6.198180209744697\n",
      "700:6.195929908267414\n",
      "800:6.194904606778375\n",
      "900:6.194435146005474\n",
      "999:6.194220577768057\n"
     ]
    }
   ],
   "source": [
    "dim_pm25 = 9 + 1\n",
    "w_pm25 = np.zeros([dim_pm25, 1])\n",
    "x = np.concatenate((np.ones([len(x_pm25_train), 1]), x_pm25_train), axis = 1).astype(float)\n",
    "learning_rate = 100\n",
    "iter_times = 1000\n",
    "adagrad = np.zeros([dim_pm25, 1])\n",
    "eps = 0.0000000001\n",
    "for t in range(iter_times):\n",
    "  loss = np.sqrt(np.sum(np.power(np.dot(x, w_pm25) - y_pm25_train, 2)) / len(x_pm25_train))\n",
    "  if t % 100 == 0 or t == iter_times - 1:\n",
    "    print(str(t) + \":\" + str(loss))\n",
    "  gradient = 2 * np.dot(x.transpose(), np.dot(x, w_pm25) - y_pm25_train)\n",
    "  adagrad += np.power(gradient, 2)\n",
    "  w_pm25 = w_pm25 - learning_rate * gradient / np.sqrt(adagrad + eps)"
   ]
  },
  {
   "cell_type": "markdown",
   "metadata": {
    "colab_type": "text",
    "id": "ddY3flYIZkp9"
   },
   "source": [
    "最终在训练集上的表现为"
   ]
  },
  {
   "cell_type": "code",
   "execution_count": 52,
   "metadata": {
    "colab": {
     "base_uri": "https://localhost:8080/",
     "height": 35
    },
    "colab_type": "code",
    "executionInfo": {
     "elapsed": 1051,
     "status": "ok",
     "timestamp": 1589530525995,
     "user": {
      "displayName": "蔡光磊",
      "photoUrl": "",
      "userId": "17728826530425753010"
     },
     "user_tz": -480
    },
    "id": "wIzjC8pVZo_b",
    "outputId": "e6738024-ceb8-4dbd-c836-798ddae0ce64"
   },
   "outputs": [
    {
     "data": {
      "text/plain": [
       "6.194219140254146"
      ]
     },
     "execution_count": 52,
     "metadata": {
      "tags": []
     },
     "output_type": "execute_result"
    }
   ],
   "source": [
    "x = np.concatenate((np.ones([len(x_pm25_train), 1]), x_pm25_train), axis = 1).astype(float)\n",
    "loss = np.sqrt(np.sum(np.power(np.dot(x, w_pm25) - y_pm25_train, 2)) / len(x_pm25_train))\n",
    "loss"
   ]
  },
  {
   "cell_type": "markdown",
   "metadata": {
    "colab_type": "text",
    "id": "3ZOxTG7oZyCI"
   },
   "source": [
    "在验证集上的表现为"
   ]
  },
  {
   "cell_type": "code",
   "execution_count": 53,
   "metadata": {
    "colab": {
     "base_uri": "https://localhost:8080/",
     "height": 35
    },
    "colab_type": "code",
    "executionInfo": {
     "elapsed": 971,
     "status": "ok",
     "timestamp": 1589530627363,
     "user": {
      "displayName": "蔡光磊",
      "photoUrl": "",
      "userId": "17728826530425753010"
     },
     "user_tz": -480
    },
    "id": "5HxTgLhcZ0Kz",
    "outputId": "95fb0bd2-704a-4823-f546-039b65cad680"
   },
   "outputs": [
    {
     "data": {
      "text/plain": [
       "5.86461175212293"
      ]
     },
     "execution_count": 53,
     "metadata": {
      "tags": []
     },
     "output_type": "execute_result"
    }
   ],
   "source": [
    "x = np.concatenate((np.ones([len(x_pm25_valid), 1]), x_pm25_valid), axis = 1).astype(float)\n",
    "loss = np.sqrt(np.sum(np.power(np.dot(x, w_pm25) - y_pm25_valid, 2)) / len(x_pm25_valid))\n",
    "loss"
   ]
  },
  {
   "cell_type": "markdown",
   "metadata": {
    "colab_type": "text",
    "id": "9cG43X5ybCRD"
   },
   "source": [
    "# **总结**\n",
    "\n",
    "---\n",
    "\n",
    "&nbsp;&nbsp;&nbsp;&nbsp;&nbsp;&nbsp;&nbsp;&nbsp;线性回归主要是用线性函数去拟合数据之间的关系，从而对不在数据集中的数据进行预测。</br>\n",
    "&nbsp;&nbsp;&nbsp;&nbsp;&nbsp;&nbsp;&nbsp;&nbsp;本次作业中数据集提供的天气特征有18个，用前9小时的总计9 * 18个数据对第10小时的其中一个特征PM2.5进行预测。</br>\n",
    "&nbsp;&nbsp;&nbsp;&nbsp;&nbsp;&nbsp;&nbsp;&nbsp;使用哪些天气特征代入线性回归是一个要讨论的问题，作业中首先尝试了使用所有的9 * 18个数据代入线性回归，最后在训练集合验证集上的误差，与只使用9个PM2.5数据进行预测的误差大致相同。</br>\n",
    "&nbsp;&nbsp;&nbsp;&nbsp;&nbsp;&nbsp;&nbsp;&nbsp;所以在天气特征中有一部分是对PM2.5值预测关系不大的，在制定线性模型时应该综合考量每个特征之间的关系，尽可能减少模型中不需要的特征变量。"
   ]
  }
 ],
 "metadata": {
  "colab": {
   "authorship_tag": "ABX9TyMOoY8emdztWbPbbhASKcsV",
   "collapsed_sections": [],
   "name": "HW1_Regression.ipynb",
   "provenance": []
  },
  "kernelspec": {
   "display_name": "Python 3",
   "language": "python",
   "name": "python3"
  },
  "language_info": {
   "codemirror_mode": {
    "name": "ipython",
    "version": 3
   },
   "file_extension": ".py",
   "mimetype": "text/x-python",
   "name": "python",
   "nbconvert_exporter": "python",
   "pygments_lexer": "ipython3",
   "version": "3.7.0"
  }
 },
 "nbformat": 4,
 "nbformat_minor": 1
}
